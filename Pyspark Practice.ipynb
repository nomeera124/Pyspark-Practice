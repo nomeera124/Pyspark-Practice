{
 "cells": [
  {
   "cell_type": "code",
   "execution_count": 0,
   "metadata": {
    "application/vnd.databricks.v1+cell": {
     "cellMetadata": {
      "byteLimit": 2048000,
      "rowLimit": 10000
     },
     "inputWidgets": {},
     "nuid": "71218e59-57e1-49b8-b6d8-faec308350a4",
     "showTitle": false,
     "title": ""
    }
   },
   "outputs": [],
   "source": [
    "#Importing necessary libraries\n",
    "import pyspark\n",
    "from pyspark.sql import SparkSession\n",
    "from pyspark.sql.functions import sum,col, count,desc,when,concat,lit\n",
    "spark=SparkSession.builder.appName('Pyspark Practice').getOrCreate()"
   ]
  },
  {
   "cell_type": "code",
   "execution_count": 0,
   "metadata": {
    "application/vnd.databricks.v1+cell": {
     "cellMetadata": {
      "byteLimit": 2048000,
      "rowLimit": 10000
     },
     "inputWidgets": {},
     "nuid": "18a5c119-012e-4ce4-a4fa-49c40ef6ddba",
     "showTitle": false,
     "title": ""
    }
   },
   "outputs": [
    {
     "output_type": "stream",
     "name": "stdout",
     "output_type": "stream",
     "text": [
      "+---+-----------+--------+---------+-------+-------+-------+----+-------+---+-----+--------+--------+-----+--------+--------+-------+\n|age|        job| marital|education|default|balance|housing|loan|contact|day|month|duration|campaign|pdays|previous|poutcome|deposit|\n+---+-----------+--------+---------+-------+-------+-------+----+-------+---+-----+--------+--------+-----+--------+--------+-------+\n| 59|     admin.| married|secondary|     no|   2343|    yes|  no|unknown|  5|  may|    1042|       1|   -1|       0| unknown|    yes|\n| 56|     admin.| married|secondary|     no|     45|     no|  no|unknown|  5|  may|    1467|       1|   -1|       0| unknown|    yes|\n| 41| technician| married|secondary|     no|   1270|    yes|  no|unknown|  5|  may|    1389|       1|   -1|       0| unknown|    yes|\n| 55|   services| married|secondary|     no|   2476|    yes|  no|unknown|  5|  may|     579|       1|   -1|       0| unknown|    yes|\n| 54|     admin.| married| tertiary|     no|    184|     no|  no|unknown|  5|  may|     673|       2|   -1|       0| unknown|    yes|\n| 42| management|  single| tertiary|     no|      0|    yes| yes|unknown|  5|  may|     562|       2|   -1|       0| unknown|    yes|\n| 56| management| married| tertiary|     no|    830|    yes| yes|unknown|  6|  may|    1201|       1|   -1|       0| unknown|    yes|\n| 60|    retired|divorced|secondary|     no|    545|    yes|  no|unknown|  6|  may|    1030|       1|   -1|       0| unknown|    yes|\n| 37| technician| married|secondary|     no|      1|    yes|  no|unknown|  6|  may|     608|       1|   -1|       0| unknown|    yes|\n| 28|   services|  single|secondary|     no|   5090|    yes|  no|unknown|  6|  may|    1297|       3|   -1|       0| unknown|    yes|\n| 38|     admin.|  single|secondary|     no|    100|    yes|  no|unknown|  7|  may|     786|       1|   -1|       0| unknown|    yes|\n| 30|blue-collar| married|secondary|     no|    309|    yes|  no|unknown|  7|  may|    1574|       2|   -1|       0| unknown|    yes|\n| 29| management| married| tertiary|     no|    199|    yes| yes|unknown|  7|  may|    1689|       4|   -1|       0| unknown|    yes|\n| 46|blue-collar|  single| tertiary|     no|    460|    yes|  no|unknown|  7|  may|    1102|       2|   -1|       0| unknown|    yes|\n| 31| technician|  single| tertiary|     no|    703|    yes|  no|unknown|  8|  may|     943|       2|   -1|       0| unknown|    yes|\n| 35| management|divorced| tertiary|     no|   3837|    yes|  no|unknown|  8|  may|    1084|       1|   -1|       0| unknown|    yes|\n| 32|blue-collar|  single|  primary|     no|    611|    yes|  no|unknown|  8|  may|     541|       3|   -1|       0| unknown|    yes|\n| 49|   services| married|secondary|     no|     -8|    yes|  no|unknown|  8|  may|    1119|       1|   -1|       0| unknown|    yes|\n| 41|     admin.| married|secondary|     no|     55|    yes|  no|unknown|  8|  may|    1120|       2|   -1|       0| unknown|    yes|\n| 49|     admin.|divorced|secondary|     no|    168|    yes| yes|unknown|  8|  may|     513|       1|   -1|       0| unknown|    yes|\n+---+-----------+--------+---------+-------+-------+-------+----+-------+---+-----+--------+--------+-----+--------+--------+-------+\nonly showing top 20 rows\n\n"
     ]
    }
   ],
   "source": [
    "#Loading File\n",
    "Filepath='dbfs:/FileStore/bank.csv'\n",
    "\n",
    "df=spark.read.csv(Filepath,header=True, inferSchema=True)\n",
    "#df.describe()\n",
    "#df.printSchema()\n",
    "df.show()"
   ]
  },
  {
   "cell_type": "code",
   "execution_count": 0,
   "metadata": {
    "application/vnd.databricks.v1+cell": {
     "cellMetadata": {
      "byteLimit": 2048000,
      "rowLimit": 10000
     },
     "inputWidgets": {},
     "nuid": "0a3f62b4-dc3e-4fd3-bba1-61a3df5efcc1",
     "showTitle": false,
     "title": ""
    }
   },
   "outputs": [
    {
     "output_type": "stream",
     "name": "stdout",
     "output_type": "stream",
     "text": [
      "+-------------+--------+--------------+\n|          job| marital|sum_of_balance|\n+-------------+--------+--------------+\n|   management| married|       2561712|\n|  blue-collar| married|       1722351|\n|   management|  single|       1530268|\n|      retired| married|       1526151|\n|   technician| married|       1462384|\n|   technician|  single|       1140197|\n|       admin.| married|        822432|\n|     services| married|        663676|\n|       admin.|  single|        585175|\n|      student|  single|        525091|\n|   management|divorced|        510561|\n|  blue-collar|  single|        484383|\n| entrepreneur| married|        436422|\n|self-employed| married|        351616|\n|      retired|divorced|        319844|\n|   unemployed| married|        254991|\n|     services|  single|        254178|\n|self-employed|  single|        249471|\n|    housemaid| married|        238777|\n|   technician|divorced|        234544|\n+-------------+--------+--------------+\nonly showing top 20 rows\n\n"
     ]
    }
   ],
   "source": [
    "#Apply some dataframe functions\n",
    "#df_groupby=df.groupBy(\"deposit\").agg(count(\"*\").alias(\"count\"))\n",
    "df_groupby=df.groupBy(\"job\",\"marital\").agg(sum(\"balance\").alias(\"sum_of_balance\"))\n",
    "df_orderby=df_groupby.orderBy(desc(\"sum_of_balance\"))\n",
    "df_orderby.show()"
   ]
  },
  {
   "cell_type": "code",
   "execution_count": 0,
   "metadata": {
    "application/vnd.databricks.v1+cell": {
     "cellMetadata": {
      "byteLimit": 2048000,
      "rowLimit": 10000
     },
     "inputWidgets": {},
     "nuid": "8caf0a6d-bf7e-4b62-a6d7-a4401139449e",
     "showTitle": false,
     "title": ""
    }
   },
   "outputs": [
    {
     "output_type": "stream",
     "name": "stdout",
     "output_type": "stream",
     "text": [
      "               0                   1                   2         3        4\nsummary    count                mean              stddev       min      max\nage        11162  41.231947679627304  11.913369192215518        18       95\njob        11162                None                None    admin.  unknown\nmarital    11162                None                None  divorced   single\neducation  11162                None                None   primary  unknown\ndefault    11162                None                None        no      yes\nbalance    11162  1528.5385235620856   3225.413325946149     -6847    81204\nhousing    11162                None                None        no      yes\nloan       11162                None                None        no      yes\ncontact    11162                None                None  cellular  unknown\nday        11162  15.658036194230425   8.420739541006462         1       31\nmonth      11162                None                None       apr      sep\nduration   11162  371.99381831213043  347.12838571630687         2     3881\ncampaign   11162   2.508421429851281  2.7220771816614824         1       63\npdays      11162   51.33040673714388  108.75828197197717        -1      854\nprevious   11162  0.8325568894463358   2.292007218670508         0       58\npoutcome   11162                None                None   failure  unknown\ndeposit    11162                None                None        no      yes\n"
     ]
    }
   ],
   "source": [
    "#Get summary of each column\n",
    "df_summary=df.describe()\n",
    "#df_summary.show()\n",
    "pandas_df=df_summary.toPandas().transpose()\n",
    "print(pandas_df)"
   ]
  },
  {
   "cell_type": "code",
   "execution_count": 0,
   "metadata": {
    "application/vnd.databricks.v1+cell": {
     "cellMetadata": {
      "byteLimit": 2048000,
      "rowLimit": 10000
     },
     "inputWidgets": {},
     "nuid": "0ce8f908-0847-44ff-9161-73c070891cd7",
     "showTitle": false,
     "title": ""
    }
   },
   "outputs": [
    {
     "output_type": "display_data",
     "data": {
      "text/html": [
       "<div>\n",
       "<style scoped>\n",
       "    .dataframe tbody tr th:only-of-type {\n",
       "        vertical-align: middle;\n",
       "    }\n",
       "\n",
       "    .dataframe tbody tr th {\n",
       "        vertical-align: top;\n",
       "    }\n",
       "\n",
       "    .dataframe thead th {\n",
       "        text-align: right;\n",
       "    }\n",
       "</style>\n",
       "<table border=\"1\" class=\"dataframe\">\n",
       "  <thead>\n",
       "    <tr style=\"text-align: right;\">\n",
       "      <th></th>\n",
       "      <th>age_isnull</th>\n",
       "      <th>job_isnull</th>\n",
       "      <th>marital_isnull</th>\n",
       "      <th>education_isnull</th>\n",
       "      <th>default_isnull</th>\n",
       "      <th>balance_isnull</th>\n",
       "      <th>housing_isnull</th>\n",
       "      <th>loan_isnull</th>\n",
       "      <th>contact_isnull</th>\n",
       "      <th>day_isnull</th>\n",
       "      <th>month_isnull</th>\n",
       "      <th>duration_isnull</th>\n",
       "      <th>campaign_isnull</th>\n",
       "      <th>pdays_isnull</th>\n",
       "      <th>previous_isnull</th>\n",
       "      <th>poutcome_isnull</th>\n",
       "      <th>deposit_isnull</th>\n",
       "    </tr>\n",
       "  </thead>\n",
       "  <tbody>\n",
       "    <tr>\n",
       "      <th>0</th>\n",
       "      <td>11162</td>\n",
       "      <td>11162</td>\n",
       "      <td>11162</td>\n",
       "      <td>11162</td>\n",
       "      <td>11162</td>\n",
       "      <td>11162</td>\n",
       "      <td>11162</td>\n",
       "      <td>11162</td>\n",
       "      <td>11162</td>\n",
       "      <td>11162</td>\n",
       "      <td>11162</td>\n",
       "      <td>11162</td>\n",
       "      <td>11162</td>\n",
       "      <td>11162</td>\n",
       "      <td>11162</td>\n",
       "      <td>11162</td>\n",
       "      <td>11162</td>\n",
       "    </tr>\n",
       "  </tbody>\n",
       "</table>\n",
       "</div>"
      ]
     },
     "metadata": {
      "application/vnd.databricks.v1+output": {
       "addedWidgets": {},
       "arguments": {},
       "data": "<div>\n<style scoped>\n    .dataframe tbody tr th:only-of-type {\n        vertical-align: middle;\n    }\n\n    .dataframe tbody tr th {\n        vertical-align: top;\n    }\n\n    .dataframe thead th {\n        text-align: right;\n    }\n</style>\n<table border=\"1\" class=\"dataframe\">\n  <thead>\n    <tr style=\"text-align: right;\">\n      <th></th>\n      <th>age_isnull</th>\n      <th>job_isnull</th>\n      <th>marital_isnull</th>\n      <th>education_isnull</th>\n      <th>default_isnull</th>\n      <th>balance_isnull</th>\n      <th>housing_isnull</th>\n      <th>loan_isnull</th>\n      <th>contact_isnull</th>\n      <th>day_isnull</th>\n      <th>month_isnull</th>\n      <th>duration_isnull</th>\n      <th>campaign_isnull</th>\n      <th>pdays_isnull</th>\n      <th>previous_isnull</th>\n      <th>poutcome_isnull</th>\n      <th>deposit_isnull</th>\n    </tr>\n  </thead>\n  <tbody>\n    <tr>\n      <th>0</th>\n      <td>11162</td>\n      <td>11162</td>\n      <td>11162</td>\n      <td>11162</td>\n      <td>11162</td>\n      <td>11162</td>\n      <td>11162</td>\n      <td>11162</td>\n      <td>11162</td>\n      <td>11162</td>\n      <td>11162</td>\n      <td>11162</td>\n      <td>11162</td>\n      <td>11162</td>\n      <td>11162</td>\n      <td>11162</td>\n      <td>11162</td>\n    </tr>\n  </tbody>\n</table>\n</div>",
       "datasetInfos": [],
       "metadata": {},
       "removedWidgets": [],
       "textData": null,
       "type": "htmlSandbox"
      }
     },
     "output_type": "display_data"
    }
   ],
   "source": [
    "#to check null and nan values\n",
    "#df.printSchema()\n",
    "df_null_nan=df.select(*[when(col(c).isNull(),True).otherwise(False).alias(c + \"_isnull\") for c in df.columns])\n",
    "pandasdf=df_null_nan.toPandas()\n",
    "#print(pandasdf)\n",
    "\n",
    "#to get a summary of non null and null values\n",
    "\n",
    "df_null_nonnull_summ=df.agg(*[sum(when(col(c).isNotNull(),1).otherwise(0)).alias(c + \"_isnull\") for c in df.columns])\n",
    "df_null_nonnull_summ_pandas=df_null_nonnull_summ.toPandas()\n",
    "df_null_nonnull_summ_pandas"
   ]
  },
  {
   "cell_type": "code",
   "execution_count": 0,
   "metadata": {
    "application/vnd.databricks.v1+cell": {
     "cellMetadata": {
      "byteLimit": 2048000,
      "rowLimit": 10000
     },
     "inputWidgets": {},
     "nuid": "9b690649-2d20-4564-8afa-92036a2caee9",
     "showTitle": false,
     "title": ""
    }
   },
   "outputs": [
    {
     "output_type": "display_data",
     "data": {
      "text/html": [
       "<div>\n",
       "<style scoped>\n",
       "    .dataframe tbody tr th:only-of-type {\n",
       "        vertical-align: middle;\n",
       "    }\n",
       "\n",
       "    .dataframe tbody tr th {\n",
       "        vertical-align: top;\n",
       "    }\n",
       "\n",
       "    .dataframe thead th {\n",
       "        text-align: right;\n",
       "    }\n",
       "</style>\n",
       "<table border=\"1\" class=\"dataframe\">\n",
       "  <thead>\n",
       "    <tr style=\"text-align: right;\">\n",
       "      <th></th>\n",
       "      <th>0</th>\n",
       "      <th>1</th>\n",
       "      <th>2</th>\n",
       "      <th>3</th>\n",
       "      <th>4</th>\n",
       "      <th>5</th>\n",
       "      <th>6</th>\n",
       "      <th>7</th>\n",
       "      <th>8</th>\n",
       "      <th>9</th>\n",
       "      <th>...</th>\n",
       "      <th>1541</th>\n",
       "      <th>1542</th>\n",
       "      <th>1543</th>\n",
       "      <th>1544</th>\n",
       "      <th>1545</th>\n",
       "      <th>1546</th>\n",
       "      <th>1547</th>\n",
       "      <th>1548</th>\n",
       "      <th>1549</th>\n",
       "      <th>1550</th>\n",
       "    </tr>\n",
       "  </thead>\n",
       "  <tbody>\n",
       "    <tr>\n",
       "      <th>age</th>\n",
       "      <td>28</td>\n",
       "      <td>29</td>\n",
       "      <td>28</td>\n",
       "      <td>28</td>\n",
       "      <td>26</td>\n",
       "      <td>23</td>\n",
       "      <td>29</td>\n",
       "      <td>26</td>\n",
       "      <td>29</td>\n",
       "      <td>24</td>\n",
       "      <td>...</td>\n",
       "      <td>25</td>\n",
       "      <td>26</td>\n",
       "      <td>28</td>\n",
       "      <td>27</td>\n",
       "      <td>26</td>\n",
       "      <td>28</td>\n",
       "      <td>25</td>\n",
       "      <td>25</td>\n",
       "      <td>27</td>\n",
       "      <td>26</td>\n",
       "    </tr>\n",
       "    <tr>\n",
       "      <th>job</th>\n",
       "      <td>services</td>\n",
       "      <td>management</td>\n",
       "      <td>admin.</td>\n",
       "      <td>blue-collar</td>\n",
       "      <td>blue-collar</td>\n",
       "      <td>entrepreneur</td>\n",
       "      <td>management</td>\n",
       "      <td>blue-collar</td>\n",
       "      <td>admin.</td>\n",
       "      <td>technician</td>\n",
       "      <td>...</td>\n",
       "      <td>technician</td>\n",
       "      <td>services</td>\n",
       "      <td>technician</td>\n",
       "      <td>services</td>\n",
       "      <td>services</td>\n",
       "      <td>technician</td>\n",
       "      <td>services</td>\n",
       "      <td>services</td>\n",
       "      <td>management</td>\n",
       "      <td>admin.</td>\n",
       "    </tr>\n",
       "    <tr>\n",
       "      <th>marital</th>\n",
       "      <td>single</td>\n",
       "      <td>married</td>\n",
       "      <td>divorced</td>\n",
       "      <td>single</td>\n",
       "      <td>single</td>\n",
       "      <td>single</td>\n",
       "      <td>married</td>\n",
       "      <td>married</td>\n",
       "      <td>single</td>\n",
       "      <td>single</td>\n",
       "      <td>...</td>\n",
       "      <td>single</td>\n",
       "      <td>single</td>\n",
       "      <td>single</td>\n",
       "      <td>single</td>\n",
       "      <td>single</td>\n",
       "      <td>single</td>\n",
       "      <td>married</td>\n",
       "      <td>single</td>\n",
       "      <td>single</td>\n",
       "      <td>married</td>\n",
       "    </tr>\n",
       "    <tr>\n",
       "      <th>education</th>\n",
       "      <td>secondary</td>\n",
       "      <td>tertiary</td>\n",
       "      <td>secondary</td>\n",
       "      <td>secondary</td>\n",
       "      <td>secondary</td>\n",
       "      <td>primary</td>\n",
       "      <td>tertiary</td>\n",
       "      <td>secondary</td>\n",
       "      <td>secondary</td>\n",
       "      <td>secondary</td>\n",
       "      <td>...</td>\n",
       "      <td>secondary</td>\n",
       "      <td>secondary</td>\n",
       "      <td>secondary</td>\n",
       "      <td>secondary</td>\n",
       "      <td>secondary</td>\n",
       "      <td>secondary</td>\n",
       "      <td>secondary</td>\n",
       "      <td>secondary</td>\n",
       "      <td>tertiary</td>\n",
       "      <td>secondary</td>\n",
       "    </tr>\n",
       "    <tr>\n",
       "      <th>default</th>\n",
       "      <td>no</td>\n",
       "      <td>no</td>\n",
       "      <td>no</td>\n",
       "      <td>no</td>\n",
       "      <td>no</td>\n",
       "      <td>no</td>\n",
       "      <td>no</td>\n",
       "      <td>no</td>\n",
       "      <td>no</td>\n",
       "      <td>no</td>\n",
       "      <td>...</td>\n",
       "      <td>no</td>\n",
       "      <td>no</td>\n",
       "      <td>no</td>\n",
       "      <td>no</td>\n",
       "      <td>no</td>\n",
       "      <td>no</td>\n",
       "      <td>no</td>\n",
       "      <td>no</td>\n",
       "      <td>no</td>\n",
       "      <td>no</td>\n",
       "    </tr>\n",
       "    <tr>\n",
       "      <th>balance</th>\n",
       "      <td>5090</td>\n",
       "      <td>199</td>\n",
       "      <td>785</td>\n",
       "      <td>759</td>\n",
       "      <td>82</td>\n",
       "      <td>4</td>\n",
       "      <td>10576</td>\n",
       "      <td>246</td>\n",
       "      <td>163</td>\n",
       "      <td>409</td>\n",
       "      <td>...</td>\n",
       "      <td>173</td>\n",
       "      <td>531</td>\n",
       "      <td>3</td>\n",
       "      <td>139</td>\n",
       "      <td>162</td>\n",
       "      <td>2000</td>\n",
       "      <td>50</td>\n",
       "      <td>199</td>\n",
       "      <td>390</td>\n",
       "      <td>714</td>\n",
       "    </tr>\n",
       "    <tr>\n",
       "      <th>housing</th>\n",
       "      <td>yes</td>\n",
       "      <td>yes</td>\n",
       "      <td>yes</td>\n",
       "      <td>yes</td>\n",
       "      <td>yes</td>\n",
       "      <td>yes</td>\n",
       "      <td>no</td>\n",
       "      <td>yes</td>\n",
       "      <td>yes</td>\n",
       "      <td>yes</td>\n",
       "      <td>...</td>\n",
       "      <td>yes</td>\n",
       "      <td>yes</td>\n",
       "      <td>no</td>\n",
       "      <td>no</td>\n",
       "      <td>yes</td>\n",
       "      <td>no</td>\n",
       "      <td>yes</td>\n",
       "      <td>no</td>\n",
       "      <td>no</td>\n",
       "      <td>yes</td>\n",
       "    </tr>\n",
       "    <tr>\n",
       "      <th>loan</th>\n",
       "      <td>no</td>\n",
       "      <td>yes</td>\n",
       "      <td>no</td>\n",
       "      <td>no</td>\n",
       "      <td>no</td>\n",
       "      <td>no</td>\n",
       "      <td>no</td>\n",
       "      <td>no</td>\n",
       "      <td>yes</td>\n",
       "      <td>no</td>\n",
       "      <td>...</td>\n",
       "      <td>no</td>\n",
       "      <td>yes</td>\n",
       "      <td>no</td>\n",
       "      <td>no</td>\n",
       "      <td>no</td>\n",
       "      <td>no</td>\n",
       "      <td>no</td>\n",
       "      <td>no</td>\n",
       "      <td>no</td>\n",
       "      <td>no</td>\n",
       "    </tr>\n",
       "    <tr>\n",
       "      <th>contact</th>\n",
       "      <td>unknown</td>\n",
       "      <td>unknown</td>\n",
       "      <td>unknown</td>\n",
       "      <td>unknown</td>\n",
       "      <td>unknown</td>\n",
       "      <td>unknown</td>\n",
       "      <td>unknown</td>\n",
       "      <td>unknown</td>\n",
       "      <td>unknown</td>\n",
       "      <td>unknown</td>\n",
       "      <td>...</td>\n",
       "      <td>cellular</td>\n",
       "      <td>cellular</td>\n",
       "      <td>telephone</td>\n",
       "      <td>cellular</td>\n",
       "      <td>cellular</td>\n",
       "      <td>telephone</td>\n",
       "      <td>unknown</td>\n",
       "      <td>cellular</td>\n",
       "      <td>cellular</td>\n",
       "      <td>unknown</td>\n",
       "    </tr>\n",
       "    <tr>\n",
       "      <th>day</th>\n",
       "      <td>6</td>\n",
       "      <td>7</td>\n",
       "      <td>8</td>\n",
       "      <td>9</td>\n",
       "      <td>9</td>\n",
       "      <td>13</td>\n",
       "      <td>15</td>\n",
       "      <td>16</td>\n",
       "      <td>16</td>\n",
       "      <td>16</td>\n",
       "      <td>...</td>\n",
       "      <td>15</td>\n",
       "      <td>6</td>\n",
       "      <td>18</td>\n",
       "      <td>25</td>\n",
       "      <td>2</td>\n",
       "      <td>3</td>\n",
       "      <td>5</td>\n",
       "      <td>16</td>\n",
       "      <td>28</td>\n",
       "      <td>28</td>\n",
       "    </tr>\n",
       "    <tr>\n",
       "      <th>month</th>\n",
       "      <td>may</td>\n",
       "      <td>may</td>\n",
       "      <td>may</td>\n",
       "      <td>may</td>\n",
       "      <td>may</td>\n",
       "      <td>may</td>\n",
       "      <td>may</td>\n",
       "      <td>may</td>\n",
       "      <td>may</td>\n",
       "      <td>may</td>\n",
       "      <td>...</td>\n",
       "      <td>may</td>\n",
       "      <td>feb</td>\n",
       "      <td>may</td>\n",
       "      <td>jul</td>\n",
       "      <td>mar</td>\n",
       "      <td>feb</td>\n",
       "      <td>may</td>\n",
       "      <td>aug</td>\n",
       "      <td>oct</td>\n",
       "      <td>may</td>\n",
       "    </tr>\n",
       "    <tr>\n",
       "      <th>duration</th>\n",
       "      <td>1297</td>\n",
       "      <td>1689</td>\n",
       "      <td>442</td>\n",
       "      <td>710</td>\n",
       "      <td>654</td>\n",
       "      <td>395</td>\n",
       "      <td>1224</td>\n",
       "      <td>1143</td>\n",
       "      <td>803</td>\n",
       "      <td>912</td>\n",
       "      <td>...</td>\n",
       "      <td>186</td>\n",
       "      <td>184</td>\n",
       "      <td>40</td>\n",
       "      <td>165</td>\n",
       "      <td>185</td>\n",
       "      <td>226</td>\n",
       "      <td>342</td>\n",
       "      <td>111</td>\n",
       "      <td>190</td>\n",
       "      <td>183</td>\n",
       "    </tr>\n",
       "    <tr>\n",
       "      <th>campaign</th>\n",
       "      <td>3</td>\n",
       "      <td>4</td>\n",
       "      <td>2</td>\n",
       "      <td>1</td>\n",
       "      <td>1</td>\n",
       "      <td>2</td>\n",
       "      <td>2</td>\n",
       "      <td>3</td>\n",
       "      <td>1</td>\n",
       "      <td>1</td>\n",
       "      <td>...</td>\n",
       "      <td>2</td>\n",
       "      <td>1</td>\n",
       "      <td>8</td>\n",
       "      <td>3</td>\n",
       "      <td>2</td>\n",
       "      <td>2</td>\n",
       "      <td>1</td>\n",
       "      <td>2</td>\n",
       "      <td>1</td>\n",
       "      <td>1</td>\n",
       "    </tr>\n",
       "    <tr>\n",
       "      <th>pdays</th>\n",
       "      <td>-1</td>\n",
       "      <td>-1</td>\n",
       "      <td>-1</td>\n",
       "      <td>-1</td>\n",
       "      <td>-1</td>\n",
       "      <td>-1</td>\n",
       "      <td>-1</td>\n",
       "      <td>-1</td>\n",
       "      <td>-1</td>\n",
       "      <td>-1</td>\n",
       "      <td>...</td>\n",
       "      <td>-1</td>\n",
       "      <td>-1</td>\n",
       "      <td>349</td>\n",
       "      <td>-1</td>\n",
       "      <td>130</td>\n",
       "      <td>-1</td>\n",
       "      <td>-1</td>\n",
       "      <td>95</td>\n",
       "      <td>82</td>\n",
       "      <td>-1</td>\n",
       "    </tr>\n",
       "    <tr>\n",
       "      <th>previous</th>\n",
       "      <td>0</td>\n",
       "      <td>0</td>\n",
       "      <td>0</td>\n",
       "      <td>0</td>\n",
       "      <td>0</td>\n",
       "      <td>0</td>\n",
       "      <td>0</td>\n",
       "      <td>0</td>\n",
       "      <td>0</td>\n",
       "      <td>0</td>\n",
       "      <td>...</td>\n",
       "      <td>0</td>\n",
       "      <td>0</td>\n",
       "      <td>6</td>\n",
       "      <td>0</td>\n",
       "      <td>8</td>\n",
       "      <td>0</td>\n",
       "      <td>0</td>\n",
       "      <td>3</td>\n",
       "      <td>1</td>\n",
       "      <td>0</td>\n",
       "    </tr>\n",
       "    <tr>\n",
       "      <th>poutcome</th>\n",
       "      <td>unknown</td>\n",
       "      <td>unknown</td>\n",
       "      <td>unknown</td>\n",
       "      <td>unknown</td>\n",
       "      <td>unknown</td>\n",
       "      <td>unknown</td>\n",
       "      <td>unknown</td>\n",
       "      <td>unknown</td>\n",
       "      <td>unknown</td>\n",
       "      <td>unknown</td>\n",
       "      <td>...</td>\n",
       "      <td>unknown</td>\n",
       "      <td>unknown</td>\n",
       "      <td>failure</td>\n",
       "      <td>unknown</td>\n",
       "      <td>other</td>\n",
       "      <td>unknown</td>\n",
       "      <td>unknown</td>\n",
       "      <td>other</td>\n",
       "      <td>success</td>\n",
       "      <td>unknown</td>\n",
       "    </tr>\n",
       "    <tr>\n",
       "      <th>deposit</th>\n",
       "      <td>yes</td>\n",
       "      <td>yes</td>\n",
       "      <td>yes</td>\n",
       "      <td>yes</td>\n",
       "      <td>yes</td>\n",
       "      <td>yes</td>\n",
       "      <td>yes</td>\n",
       "      <td>yes</td>\n",
       "      <td>yes</td>\n",
       "      <td>yes</td>\n",
       "      <td>...</td>\n",
       "      <td>no</td>\n",
       "      <td>no</td>\n",
       "      <td>no</td>\n",
       "      <td>no</td>\n",
       "      <td>no</td>\n",
       "      <td>no</td>\n",
       "      <td>no</td>\n",
       "      <td>no</td>\n",
       "      <td>no</td>\n",
       "      <td>no</td>\n",
       "    </tr>\n",
       "  </tbody>\n",
       "</table>\n",
       "<p>17 rows × 1551 columns</p>\n",
       "</div>"
      ]
     },
     "metadata": {
      "application/vnd.databricks.v1+output": {
       "addedWidgets": {},
       "arguments": {},
       "data": "<div>\n<style scoped>\n    .dataframe tbody tr th:only-of-type {\n        vertical-align: middle;\n    }\n\n    .dataframe tbody tr th {\n        vertical-align: top;\n    }\n\n    .dataframe thead th {\n        text-align: right;\n    }\n</style>\n<table border=\"1\" class=\"dataframe\">\n  <thead>\n    <tr style=\"text-align: right;\">\n      <th></th>\n      <th>0</th>\n      <th>1</th>\n      <th>2</th>\n      <th>3</th>\n      <th>4</th>\n      <th>5</th>\n      <th>6</th>\n      <th>7</th>\n      <th>8</th>\n      <th>9</th>\n      <th>...</th>\n      <th>1541</th>\n      <th>1542</th>\n      <th>1543</th>\n      <th>1544</th>\n      <th>1545</th>\n      <th>1546</th>\n      <th>1547</th>\n      <th>1548</th>\n      <th>1549</th>\n      <th>1550</th>\n    </tr>\n  </thead>\n  <tbody>\n    <tr>\n      <th>age</th>\n      <td>28</td>\n      <td>29</td>\n      <td>28</td>\n      <td>28</td>\n      <td>26</td>\n      <td>23</td>\n      <td>29</td>\n      <td>26</td>\n      <td>29</td>\n      <td>24</td>\n      <td>...</td>\n      <td>25</td>\n      <td>26</td>\n      <td>28</td>\n      <td>27</td>\n      <td>26</td>\n      <td>28</td>\n      <td>25</td>\n      <td>25</td>\n      <td>27</td>\n      <td>26</td>\n    </tr>\n    <tr>\n      <th>job</th>\n      <td>services</td>\n      <td>management</td>\n      <td>admin.</td>\n      <td>blue-collar</td>\n      <td>blue-collar</td>\n      <td>entrepreneur</td>\n      <td>management</td>\n      <td>blue-collar</td>\n      <td>admin.</td>\n      <td>technician</td>\n      <td>...</td>\n      <td>technician</td>\n      <td>services</td>\n      <td>technician</td>\n      <td>services</td>\n      <td>services</td>\n      <td>technician</td>\n      <td>services</td>\n      <td>services</td>\n      <td>management</td>\n      <td>admin.</td>\n    </tr>\n    <tr>\n      <th>marital</th>\n      <td>single</td>\n      <td>married</td>\n      <td>divorced</td>\n      <td>single</td>\n      <td>single</td>\n      <td>single</td>\n      <td>married</td>\n      <td>married</td>\n      <td>single</td>\n      <td>single</td>\n      <td>...</td>\n      <td>single</td>\n      <td>single</td>\n      <td>single</td>\n      <td>single</td>\n      <td>single</td>\n      <td>single</td>\n      <td>married</td>\n      <td>single</td>\n      <td>single</td>\n      <td>married</td>\n    </tr>\n    <tr>\n      <th>education</th>\n      <td>secondary</td>\n      <td>tertiary</td>\n      <td>secondary</td>\n      <td>secondary</td>\n      <td>secondary</td>\n      <td>primary</td>\n      <td>tertiary</td>\n      <td>secondary</td>\n      <td>secondary</td>\n      <td>secondary</td>\n      <td>...</td>\n      <td>secondary</td>\n      <td>secondary</td>\n      <td>secondary</td>\n      <td>secondary</td>\n      <td>secondary</td>\n      <td>secondary</td>\n      <td>secondary</td>\n      <td>secondary</td>\n      <td>tertiary</td>\n      <td>secondary</td>\n    </tr>\n    <tr>\n      <th>default</th>\n      <td>no</td>\n      <td>no</td>\n      <td>no</td>\n      <td>no</td>\n      <td>no</td>\n      <td>no</td>\n      <td>no</td>\n      <td>no</td>\n      <td>no</td>\n      <td>no</td>\n      <td>...</td>\n      <td>no</td>\n      <td>no</td>\n      <td>no</td>\n      <td>no</td>\n      <td>no</td>\n      <td>no</td>\n      <td>no</td>\n      <td>no</td>\n      <td>no</td>\n      <td>no</td>\n    </tr>\n    <tr>\n      <th>balance</th>\n      <td>5090</td>\n      <td>199</td>\n      <td>785</td>\n      <td>759</td>\n      <td>82</td>\n      <td>4</td>\n      <td>10576</td>\n      <td>246</td>\n      <td>163</td>\n      <td>409</td>\n      <td>...</td>\n      <td>173</td>\n      <td>531</td>\n      <td>3</td>\n      <td>139</td>\n      <td>162</td>\n      <td>2000</td>\n      <td>50</td>\n      <td>199</td>\n      <td>390</td>\n      <td>714</td>\n    </tr>\n    <tr>\n      <th>housing</th>\n      <td>yes</td>\n      <td>yes</td>\n      <td>yes</td>\n      <td>yes</td>\n      <td>yes</td>\n      <td>yes</td>\n      <td>no</td>\n      <td>yes</td>\n      <td>yes</td>\n      <td>yes</td>\n      <td>...</td>\n      <td>yes</td>\n      <td>yes</td>\n      <td>no</td>\n      <td>no</td>\n      <td>yes</td>\n      <td>no</td>\n      <td>yes</td>\n      <td>no</td>\n      <td>no</td>\n      <td>yes</td>\n    </tr>\n    <tr>\n      <th>loan</th>\n      <td>no</td>\n      <td>yes</td>\n      <td>no</td>\n      <td>no</td>\n      <td>no</td>\n      <td>no</td>\n      <td>no</td>\n      <td>no</td>\n      <td>yes</td>\n      <td>no</td>\n      <td>...</td>\n      <td>no</td>\n      <td>yes</td>\n      <td>no</td>\n      <td>no</td>\n      <td>no</td>\n      <td>no</td>\n      <td>no</td>\n      <td>no</td>\n      <td>no</td>\n      <td>no</td>\n    </tr>\n    <tr>\n      <th>contact</th>\n      <td>unknown</td>\n      <td>unknown</td>\n      <td>unknown</td>\n      <td>unknown</td>\n      <td>unknown</td>\n      <td>unknown</td>\n      <td>unknown</td>\n      <td>unknown</td>\n      <td>unknown</td>\n      <td>unknown</td>\n      <td>...</td>\n      <td>cellular</td>\n      <td>cellular</td>\n      <td>telephone</td>\n      <td>cellular</td>\n      <td>cellular</td>\n      <td>telephone</td>\n      <td>unknown</td>\n      <td>cellular</td>\n      <td>cellular</td>\n      <td>unknown</td>\n    </tr>\n    <tr>\n      <th>day</th>\n      <td>6</td>\n      <td>7</td>\n      <td>8</td>\n      <td>9</td>\n      <td>9</td>\n      <td>13</td>\n      <td>15</td>\n      <td>16</td>\n      <td>16</td>\n      <td>16</td>\n      <td>...</td>\n      <td>15</td>\n      <td>6</td>\n      <td>18</td>\n      <td>25</td>\n      <td>2</td>\n      <td>3</td>\n      <td>5</td>\n      <td>16</td>\n      <td>28</td>\n      <td>28</td>\n    </tr>\n    <tr>\n      <th>month</th>\n      <td>may</td>\n      <td>may</td>\n      <td>may</td>\n      <td>may</td>\n      <td>may</td>\n      <td>may</td>\n      <td>may</td>\n      <td>may</td>\n      <td>may</td>\n      <td>may</td>\n      <td>...</td>\n      <td>may</td>\n      <td>feb</td>\n      <td>may</td>\n      <td>jul</td>\n      <td>mar</td>\n      <td>feb</td>\n      <td>may</td>\n      <td>aug</td>\n      <td>oct</td>\n      <td>may</td>\n    </tr>\n    <tr>\n      <th>duration</th>\n      <td>1297</td>\n      <td>1689</td>\n      <td>442</td>\n      <td>710</td>\n      <td>654</td>\n      <td>395</td>\n      <td>1224</td>\n      <td>1143</td>\n      <td>803</td>\n      <td>912</td>\n      <td>...</td>\n      <td>186</td>\n      <td>184</td>\n      <td>40</td>\n      <td>165</td>\n      <td>185</td>\n      <td>226</td>\n      <td>342</td>\n      <td>111</td>\n      <td>190</td>\n      <td>183</td>\n    </tr>\n    <tr>\n      <th>campaign</th>\n      <td>3</td>\n      <td>4</td>\n      <td>2</td>\n      <td>1</td>\n      <td>1</td>\n      <td>2</td>\n      <td>2</td>\n      <td>3</td>\n      <td>1</td>\n      <td>1</td>\n      <td>...</td>\n      <td>2</td>\n      <td>1</td>\n      <td>8</td>\n      <td>3</td>\n      <td>2</td>\n      <td>2</td>\n      <td>1</td>\n      <td>2</td>\n      <td>1</td>\n      <td>1</td>\n    </tr>\n    <tr>\n      <th>pdays</th>\n      <td>-1</td>\n      <td>-1</td>\n      <td>-1</td>\n      <td>-1</td>\n      <td>-1</td>\n      <td>-1</td>\n      <td>-1</td>\n      <td>-1</td>\n      <td>-1</td>\n      <td>-1</td>\n      <td>...</td>\n      <td>-1</td>\n      <td>-1</td>\n      <td>349</td>\n      <td>-1</td>\n      <td>130</td>\n      <td>-1</td>\n      <td>-1</td>\n      <td>95</td>\n      <td>82</td>\n      <td>-1</td>\n    </tr>\n    <tr>\n      <th>previous</th>\n      <td>0</td>\n      <td>0</td>\n      <td>0</td>\n      <td>0</td>\n      <td>0</td>\n      <td>0</td>\n      <td>0</td>\n      <td>0</td>\n      <td>0</td>\n      <td>0</td>\n      <td>...</td>\n      <td>0</td>\n      <td>0</td>\n      <td>6</td>\n      <td>0</td>\n      <td>8</td>\n      <td>0</td>\n      <td>0</td>\n      <td>3</td>\n      <td>1</td>\n      <td>0</td>\n    </tr>\n    <tr>\n      <th>poutcome</th>\n      <td>unknown</td>\n      <td>unknown</td>\n      <td>unknown</td>\n      <td>unknown</td>\n      <td>unknown</td>\n      <td>unknown</td>\n      <td>unknown</td>\n      <td>unknown</td>\n      <td>unknown</td>\n      <td>unknown</td>\n      <td>...</td>\n      <td>unknown</td>\n      <td>unknown</td>\n      <td>failure</td>\n      <td>unknown</td>\n      <td>other</td>\n      <td>unknown</td>\n      <td>unknown</td>\n      <td>other</td>\n      <td>success</td>\n      <td>unknown</td>\n    </tr>\n    <tr>\n      <th>deposit</th>\n      <td>yes</td>\n      <td>yes</td>\n      <td>yes</td>\n      <td>yes</td>\n      <td>yes</td>\n      <td>yes</td>\n      <td>yes</td>\n      <td>yes</td>\n      <td>yes</td>\n      <td>yes</td>\n      <td>...</td>\n      <td>no</td>\n      <td>no</td>\n      <td>no</td>\n      <td>no</td>\n      <td>no</td>\n      <td>no</td>\n      <td>no</td>\n      <td>no</td>\n      <td>no</td>\n      <td>no</td>\n    </tr>\n  </tbody>\n</table>\n<p>17 rows × 1551 columns</p>\n</div>",
       "datasetInfos": [],
       "metadata": {},
       "removedWidgets": [],
       "textData": null,
       "type": "htmlSandbox"
      }
     },
     "output_type": "display_data"
    }
   ],
   "source": [
    "#sum_of_bal=df.agg(sum(col(\"balance\")))\n",
    "\n",
    "df_filter=df.filter(col(\"age\")<30)\n",
    "\n",
    "#df_filter.show()\n",
    "\n",
    "#df_filter.count()\n",
    "\n",
    "df_filter.toPandas().transpose()"
   ]
  },
  {
   "cell_type": "code",
   "execution_count": 0,
   "metadata": {
    "application/vnd.databricks.v1+cell": {
     "cellMetadata": {
      "byteLimit": 2048000,
      "rowLimit": 10000
     },
     "inputWidgets": {},
     "nuid": "870c7a00-4b24-4e14-b0bb-505e547d4eb3",
     "showTitle": false,
     "title": ""
    }
   },
   "outputs": [
    {
     "output_type": "stream",
     "name": "stdout",
     "output_type": "stream",
     "text": [
      "+---+-----------+--------+---------+-------+-------+-------+----+-------+---+-----+--------+--------+-----+--------+--------+-------+\n|age|        job| marital|education|default|balance|housing|loan|contact|day|month|duration|campaign|pdays|previous|poutcome|deposit|\n+---+-----------+--------+---------+-------+-------+-------+----+-------+---+-----+--------+--------+-----+--------+--------+-------+\n| 59|     admin.| married|secondary|     no|   2343|    yes|  no|unknown|  5|  may|    1042|       1|   -1|       0| unknown|    yes|\n| 56|     admin.| married|secondary|     no|     45|     no|  no|unknown|  5|  may|    1467|       1|   -1|       0| unknown|    yes|\n| 41| technician| married|secondary|     no|   1270|    yes|  no|unknown|  5|  may|    1389|       1|   -1|       0| unknown|    yes|\n| 55|   services| married|secondary|     no|   2476|    yes|  no|unknown|  5|  may|     579|       1|   -1|       0| unknown|    yes|\n| 54|     admin.| married| tertiary|     no|    184|     no|  no|unknown|  5|  may|     673|       2|   -1|       0| unknown|    yes|\n| 42| management|  single| tertiary|     no|      0|    yes| yes|unknown|  5|  may|     562|       2|   -1|       0| unknown|    yes|\n| 56| management| married| tertiary|     no|    830|    yes| yes|unknown|  6|  may|    1201|       1|   -1|       0| unknown|    yes|\n| 60|    retired|divorced|secondary|     no|    545|    yes|  no|unknown|  6|  may|    1030|       1|   -1|       0| unknown|    yes|\n| 37| technician| married|secondary|     no|      1|    yes|  no|unknown|  6|  may|     608|       1|   -1|       0| unknown|    yes|\n| 28|   services|  single|secondary|     no|   5090|    yes|  no|unknown|  6|  may|    1297|       3|   -1|       0| unknown|    yes|\n| 38|     admin.|  single|secondary|     no|    100|    yes|  no|unknown|  7|  may|     786|       1|   -1|       0| unknown|    yes|\n| 30|blue-collar| married|secondary|     no|    309|    yes|  no|unknown|  7|  may|    1574|       2|   -1|       0| unknown|    yes|\n| 29| management| married| tertiary|     no|    199|    yes| yes|unknown|  7|  may|    1689|       4|   -1|       0| unknown|    yes|\n| 46|blue-collar|  single| tertiary|     no|    460|    yes|  no|unknown|  7|  may|    1102|       2|   -1|       0| unknown|    yes|\n| 31| technician|  single| tertiary|     no|    703|    yes|  no|unknown|  8|  may|     943|       2|   -1|       0| unknown|    yes|\n| 35| management|divorced| tertiary|     no|   3837|    yes|  no|unknown|  8|  may|    1084|       1|   -1|       0| unknown|    yes|\n| 32|blue-collar|  single|  primary|     no|    611|    yes|  no|unknown|  8|  may|     541|       3|   -1|       0| unknown|    yes|\n| 49|   services| married|secondary|     no|     -8|    yes|  no|unknown|  8|  may|    1119|       1|   -1|       0| unknown|    yes|\n| 41|     admin.| married|secondary|     no|     55|    yes|  no|unknown|  8|  may|    1120|       2|   -1|       0| unknown|    yes|\n| 49|     admin.|divorced|secondary|     no|    168|    yes| yes|unknown|  8|  may|     513|       1|   -1|       0| unknown|    yes|\n+---+-----------+--------+---------+-------+-------+-------+----+-------+---+-----+--------+--------+-----+--------+--------+-------+\nonly showing top 20 rows\n\n"
     ]
    }
   ],
   "source": [
    "#select all columns and copy a dataframe\n",
    "\n",
    "df_select_all=df.select(\"*\")\n",
    "\n",
    "df_select_all.show()"
   ]
  },
  {
   "cell_type": "code",
   "execution_count": 0,
   "metadata": {
    "application/vnd.databricks.v1+cell": {
     "cellMetadata": {
      "byteLimit": 2048000,
      "rowLimit": 10000
     },
     "inputWidgets": {},
     "nuid": "bd0415eb-bd06-4277-a2e4-fb9cc187d0e4",
     "showTitle": false,
     "title": ""
    }
   },
   "outputs": [
    {
     "output_type": "stream",
     "name": "stdout",
     "output_type": "stream",
     "text": [
      "+---+-----------+--------+---------+-------+-------+-------+----+-------+---+-----+--------+--------+-----+--------+--------+-------+--------------+\n|age|        job| marital|education|default|balance|housing|loan|contact|day|month|duration|campaign|pdays|previous|poutcome|deposit|    new_column|\n+---+-----------+--------+---------+-------+-------+-------+----+-------+---+-----+--------+--------+-----+--------+--------+-------+--------------+\n| 59|     admin.| married|secondary|     no|   2343|    yes|  no|unknown|  5|  may|    1042|       1|   -1|       0| unknown|    yes|     59_admin.|\n| 56|     admin.| married|secondary|     no|     45|     no|  no|unknown|  5|  may|    1467|       1|   -1|       0| unknown|    yes|     56_admin.|\n| 41| technician| married|secondary|     no|   1270|    yes|  no|unknown|  5|  may|    1389|       1|   -1|       0| unknown|    yes| 41_technician|\n| 55|   services| married|secondary|     no|   2476|    yes|  no|unknown|  5|  may|     579|       1|   -1|       0| unknown|    yes|   55_services|\n| 54|     admin.| married| tertiary|     no|    184|     no|  no|unknown|  5|  may|     673|       2|   -1|       0| unknown|    yes|     54_admin.|\n| 42| management|  single| tertiary|     no|      0|    yes| yes|unknown|  5|  may|     562|       2|   -1|       0| unknown|    yes| 42_management|\n| 56| management| married| tertiary|     no|    830|    yes| yes|unknown|  6|  may|    1201|       1|   -1|       0| unknown|    yes| 56_management|\n| 60|    retired|divorced|secondary|     no|    545|    yes|  no|unknown|  6|  may|    1030|       1|   -1|       0| unknown|    yes|    60_retired|\n| 37| technician| married|secondary|     no|      1|    yes|  no|unknown|  6|  may|     608|       1|   -1|       0| unknown|    yes| 37_technician|\n| 28|   services|  single|secondary|     no|   5090|    yes|  no|unknown|  6|  may|    1297|       3|   -1|       0| unknown|    yes|   28_services|\n| 38|     admin.|  single|secondary|     no|    100|    yes|  no|unknown|  7|  may|     786|       1|   -1|       0| unknown|    yes|     38_admin.|\n| 30|blue-collar| married|secondary|     no|    309|    yes|  no|unknown|  7|  may|    1574|       2|   -1|       0| unknown|    yes|30_blue-collar|\n| 29| management| married| tertiary|     no|    199|    yes| yes|unknown|  7|  may|    1689|       4|   -1|       0| unknown|    yes| 29_management|\n| 46|blue-collar|  single| tertiary|     no|    460|    yes|  no|unknown|  7|  may|    1102|       2|   -1|       0| unknown|    yes|46_blue-collar|\n| 31| technician|  single| tertiary|     no|    703|    yes|  no|unknown|  8|  may|     943|       2|   -1|       0| unknown|    yes| 31_technician|\n| 35| management|divorced| tertiary|     no|   3837|    yes|  no|unknown|  8|  may|    1084|       1|   -1|       0| unknown|    yes| 35_management|\n| 32|blue-collar|  single|  primary|     no|    611|    yes|  no|unknown|  8|  may|     541|       3|   -1|       0| unknown|    yes|32_blue-collar|\n| 49|   services| married|secondary|     no|     -8|    yes|  no|unknown|  8|  may|    1119|       1|   -1|       0| unknown|    yes|   49_services|\n| 41|     admin.| married|secondary|     no|     55|    yes|  no|unknown|  8|  may|    1120|       2|   -1|       0| unknown|    yes|     41_admin.|\n| 49|     admin.|divorced|secondary|     no|    168|    yes| yes|unknown|  8|  may|     513|       1|   -1|       0| unknown|    yes|     49_admin.|\n+---+-----------+--------+---------+-------+-------+-------+----+-------+---+-----+--------+--------+-----+--------+--------+-------+--------------+\nonly showing top 20 rows\n\n"
     ]
    }
   ],
   "source": [
    "#adding a new column in a datafrme\n",
    "\n",
    "new_column_exm_1=df_select_all.withColumn('new_column',df_select_all.age)\n",
    "#new_column_exm_1.show()\n",
    "\n",
    "#alternate method to add new column\n",
    "\n",
    "new_column_exm_2=df_select_all.withColumn('new_column',col(\"job\"))\n",
    "#new_column_exm_2.show()\n",
    "\n",
    "#adding new column by concatenation of 2 columns\n",
    "\n",
    "new_column_exm_3=df_select_all.withColumn('new_column',concat(col('age'),lit(\"_\"),col('job')))\n",
    "new_column_exm_3.show()"
   ]
  },
  {
   "cell_type": "code",
   "execution_count": 0,
   "metadata": {
    "application/vnd.databricks.v1+cell": {
     "cellMetadata": {
      "byteLimit": 2048000,
      "rowLimit": 10000
     },
     "inputWidgets": {},
     "nuid": "45931eda-9f64-4f57-9caf-06dcb5784aa8",
     "showTitle": false,
     "title": ""
    }
   },
   "outputs": [
    {
     "output_type": "stream",
     "name": "stdout",
     "output_type": "stream",
     "text": [
      "+-----------+--------+---------+-------+-------+-------+----+-------+---+-----+--------+--------+-----+--------+--------+-------+\n|        job| marital|education|default|balance|housing|loan|contact|day|month|duration|campaign|pdays|previous|poutcome|deposit|\n+-----------+--------+---------+-------+-------+-------+----+-------+---+-----+--------+--------+-----+--------+--------+-------+\n|     admin.| married|secondary|     no|   2343|    yes|  no|unknown|  5|  may|    1042|       1|   -1|       0| unknown|    yes|\n|     admin.| married|secondary|     no|     45|     no|  no|unknown|  5|  may|    1467|       1|   -1|       0| unknown|    yes|\n| technician| married|secondary|     no|   1270|    yes|  no|unknown|  5|  may|    1389|       1|   -1|       0| unknown|    yes|\n|   services| married|secondary|     no|   2476|    yes|  no|unknown|  5|  may|     579|       1|   -1|       0| unknown|    yes|\n|     admin.| married| tertiary|     no|    184|     no|  no|unknown|  5|  may|     673|       2|   -1|       0| unknown|    yes|\n| management|  single| tertiary|     no|      0|    yes| yes|unknown|  5|  may|     562|       2|   -1|       0| unknown|    yes|\n| management| married| tertiary|     no|    830|    yes| yes|unknown|  6|  may|    1201|       1|   -1|       0| unknown|    yes|\n|    retired|divorced|secondary|     no|    545|    yes|  no|unknown|  6|  may|    1030|       1|   -1|       0| unknown|    yes|\n| technician| married|secondary|     no|      1|    yes|  no|unknown|  6|  may|     608|       1|   -1|       0| unknown|    yes|\n|   services|  single|secondary|     no|   5090|    yes|  no|unknown|  6|  may|    1297|       3|   -1|       0| unknown|    yes|\n|     admin.|  single|secondary|     no|    100|    yes|  no|unknown|  7|  may|     786|       1|   -1|       0| unknown|    yes|\n|blue-collar| married|secondary|     no|    309|    yes|  no|unknown|  7|  may|    1574|       2|   -1|       0| unknown|    yes|\n| management| married| tertiary|     no|    199|    yes| yes|unknown|  7|  may|    1689|       4|   -1|       0| unknown|    yes|\n|blue-collar|  single| tertiary|     no|    460|    yes|  no|unknown|  7|  may|    1102|       2|   -1|       0| unknown|    yes|\n| technician|  single| tertiary|     no|    703|    yes|  no|unknown|  8|  may|     943|       2|   -1|       0| unknown|    yes|\n| management|divorced| tertiary|     no|   3837|    yes|  no|unknown|  8|  may|    1084|       1|   -1|       0| unknown|    yes|\n|blue-collar|  single|  primary|     no|    611|    yes|  no|unknown|  8|  may|     541|       3|   -1|       0| unknown|    yes|\n|   services| married|secondary|     no|     -8|    yes|  no|unknown|  8|  may|    1119|       1|   -1|       0| unknown|    yes|\n|     admin.| married|secondary|     no|     55|    yes|  no|unknown|  8|  may|    1120|       2|   -1|       0| unknown|    yes|\n|     admin.|divorced|secondary|     no|    168|    yes| yes|unknown|  8|  may|     513|       1|   -1|       0| unknown|    yes|\n+-----------+--------+---------+-------+-------+-------+----+-------+---+-----+--------+--------+-----+--------+--------+-------+\nonly showing top 20 rows\n\n"
     ]
    }
   ],
   "source": [
    "#dropping a column from a dataframe\n",
    "df_copy=df.select(\"*\")\n",
    "\n",
    "df_droped_col=df_copy.drop(col(\"age\"))\n",
    "df_droped_col.show()"
   ]
  },
  {
   "cell_type": "code",
   "execution_count": 0,
   "metadata": {
    "application/vnd.databricks.v1+cell": {
     "cellMetadata": {
      "byteLimit": 2048000,
      "rowLimit": 10000
     },
     "inputWidgets": {},
     "nuid": "8e589718-9cc3-43cf-b331-11e04e442796",
     "showTitle": false,
     "title": ""
    }
   },
   "outputs": [
    {
     "output_type": "stream",
     "name": "stdout",
     "output_type": "stream",
     "text": [
      "+-------+-----------+--------+---------+-------+-------+-------+----+-------+---+-----+--------+--------+-----+--------+--------+-------+\n|age_new|        job| marital|education|default|balance|housing|loan|contact|day|month|duration|campaign|pdays|previous|poutcome|deposit|\n+-------+-----------+--------+---------+-------+-------+-------+----+-------+---+-----+--------+--------+-----+--------+--------+-------+\n|     59|     admin.| married|secondary|     no|   2343|    yes|  no|unknown|  5|  may|    1042|       1|   -1|       0| unknown|    yes|\n|     56|     admin.| married|secondary|     no|     45|     no|  no|unknown|  5|  may|    1467|       1|   -1|       0| unknown|    yes|\n|     41| technician| married|secondary|     no|   1270|    yes|  no|unknown|  5|  may|    1389|       1|   -1|       0| unknown|    yes|\n|     55|   services| married|secondary|     no|   2476|    yes|  no|unknown|  5|  may|     579|       1|   -1|       0| unknown|    yes|\n|     54|     admin.| married| tertiary|     no|    184|     no|  no|unknown|  5|  may|     673|       2|   -1|       0| unknown|    yes|\n|     42| management|  single| tertiary|     no|      0|    yes| yes|unknown|  5|  may|     562|       2|   -1|       0| unknown|    yes|\n|     56| management| married| tertiary|     no|    830|    yes| yes|unknown|  6|  may|    1201|       1|   -1|       0| unknown|    yes|\n|     60|    retired|divorced|secondary|     no|    545|    yes|  no|unknown|  6|  may|    1030|       1|   -1|       0| unknown|    yes|\n|     37| technician| married|secondary|     no|      1|    yes|  no|unknown|  6|  may|     608|       1|   -1|       0| unknown|    yes|\n|     28|   services|  single|secondary|     no|   5090|    yes|  no|unknown|  6|  may|    1297|       3|   -1|       0| unknown|    yes|\n|     38|     admin.|  single|secondary|     no|    100|    yes|  no|unknown|  7|  may|     786|       1|   -1|       0| unknown|    yes|\n|     30|blue-collar| married|secondary|     no|    309|    yes|  no|unknown|  7|  may|    1574|       2|   -1|       0| unknown|    yes|\n|     29| management| married| tertiary|     no|    199|    yes| yes|unknown|  7|  may|    1689|       4|   -1|       0| unknown|    yes|\n|     46|blue-collar|  single| tertiary|     no|    460|    yes|  no|unknown|  7|  may|    1102|       2|   -1|       0| unknown|    yes|\n|     31| technician|  single| tertiary|     no|    703|    yes|  no|unknown|  8|  may|     943|       2|   -1|       0| unknown|    yes|\n|     35| management|divorced| tertiary|     no|   3837|    yes|  no|unknown|  8|  may|    1084|       1|   -1|       0| unknown|    yes|\n|     32|blue-collar|  single|  primary|     no|    611|    yes|  no|unknown|  8|  may|     541|       3|   -1|       0| unknown|    yes|\n|     49|   services| married|secondary|     no|     -8|    yes|  no|unknown|  8|  may|    1119|       1|   -1|       0| unknown|    yes|\n|     41|     admin.| married|secondary|     no|     55|    yes|  no|unknown|  8|  may|    1120|       2|   -1|       0| unknown|    yes|\n|     49|     admin.|divorced|secondary|     no|    168|    yes| yes|unknown|  8|  may|     513|       1|   -1|       0| unknown|    yes|\n+-------+-----------+--------+---------+-------+-------+-------+----+-------+---+-----+--------+--------+-----+--------+--------+-------+\nonly showing top 20 rows\n\nOut[36]: DataFrame[age_new: int, job: string, marital: string, education: string, default: string, balance: int, housing: string, loan: string, contact: string, day: int, month: string, duration: int, campaign: int, pdays: int, previous: int, poutcome: string, deposit: string]"
     ]
    }
   ],
   "source": [
    "#Rename the column name\n",
    "\n",
    "df_rename=df_copy.withColumnRenamed('age','age_new')\n",
    "df_rename.show()\n",
    "\n",
    "#example of how pyspark dataframes are immutable\n",
    "df_copy.withColumnRenamed('age','age_new')\n",
    "#df_copy.show()"
   ]
  },
  {
   "cell_type": "code",
   "execution_count": 0,
   "metadata": {
    "application/vnd.databricks.v1+cell": {
     "cellMetadata": {
      "byteLimit": 2048000,
      "rowLimit": 10000
     },
     "inputWidgets": {},
     "nuid": "47625d9e-7e27-4458-9179-408982ad48e1",
     "showTitle": false,
     "title": ""
    }
   },
   "outputs": [
    {
     "output_type": "stream",
     "name": "stdout",
     "output_type": "stream",
     "text": [
      "Out[39]: 11162"
     ]
    }
   ],
   "source": [
    "#get distinct rows\n",
    "\n",
    "#df_copy.count()\n",
    "\n",
    "df_copy.distinct().count()"
   ]
  },
  {
   "cell_type": "code",
   "execution_count": 0,
   "metadata": {
    "application/vnd.databricks.v1+cell": {
     "cellMetadata": {
      "byteLimit": 2048000,
      "rowLimit": 10000
     },
     "inputWidgets": {},
     "nuid": "6d91777b-9657-453e-aa77-9786099d9844",
     "showTitle": false,
     "title": ""
    }
   },
   "outputs": [
    {
     "output_type": "stream",
     "name": "stdout",
     "output_type": "stream",
     "text": [
      "+---+-----------+--------+---------+-------+-------+-------+----+-------+---+-----+--------+--------+-----+--------+--------+-------+\n|age|        job| marital|education|default|balance|housing|loan|contact|day|month|duration|campaign|pdays|previous|poutcome|deposit|\n+---+-----------+--------+---------+-------+-------+-------+----+-------+---+-----+--------+--------+-----+--------+--------+-------+\n| 59|     admin.| married|secondary|     no|   2343|    yes|  no|unknown|  5|  may|    1042|       1|   -1|       0| unknown|    yes|\n| 56|     admin.| married|secondary|     no|     45|     no|  no|unknown|  5|  may|    1467|       1|   -1|       0| unknown|    yes|\n| 41| technician| married|secondary|     no|   1270|    yes|  no|unknown|  5|  may|    1389|       1|   -1|       0| unknown|    yes|\n| 55|   services| married|secondary|     no|   2476|    yes|  no|unknown|  5|  may|     579|       1|   -1|       0| unknown|    yes|\n| 54|     admin.| married| tertiary|     no|    184|     no|  no|unknown|  5|  may|     673|       2|   -1|       0| unknown|    yes|\n| 42| management|  single| tertiary|     no|      0|    yes| yes|unknown|  5|  may|     562|       2|   -1|       0| unknown|    yes|\n| 56| management| married| tertiary|     no|    830|    yes| yes|unknown|  6|  may|    1201|       1|   -1|       0| unknown|    yes|\n| 60|    retired|divorced|secondary|     no|    545|    yes|  no|unknown|  6|  may|    1030|       1|   -1|       0| unknown|    yes|\n| 37| technician| married|secondary|     no|      1|    yes|  no|unknown|  6|  may|     608|       1|   -1|       0| unknown|    yes|\n| 28|   services|  single|secondary|     no|   5090|    yes|  no|unknown|  6|  may|    1297|       3|   -1|       0| unknown|    yes|\n| 38|     admin.|  single|secondary|     no|    100|    yes|  no|unknown|  7|  may|     786|       1|   -1|       0| unknown|    yes|\n| 30|blue-collar| married|secondary|     no|    309|    yes|  no|unknown|  7|  may|    1574|       2|   -1|       0| unknown|    yes|\n| 29| management| married| tertiary|     no|    199|    yes| yes|unknown|  7|  may|    1689|       4|   -1|       0| unknown|    yes|\n| 46|blue-collar|  single| tertiary|     no|    460|    yes|  no|unknown|  7|  may|    1102|       2|   -1|       0| unknown|    yes|\n| 31| technician|  single| tertiary|     no|    703|    yes|  no|unknown|  8|  may|     943|       2|   -1|       0| unknown|    yes|\n+---+-----------+--------+---------+-------+-------+-------+----+-------+---+-----+--------+--------+-----+--------+--------+-------+\n\n"
     ]
    }
   ],
   "source": [
    "#apply limit to get sample\n",
    "\n",
    "df_copy.limit(15).show()"
   ]
  },
  {
   "cell_type": "code",
   "execution_count": 0,
   "metadata": {
    "application/vnd.databricks.v1+cell": {
     "cellMetadata": {
      "byteLimit": 2048000,
      "rowLimit": 10000
     },
     "inputWidgets": {},
     "nuid": "790a6ba8-b122-4ae7-a958-44524191285f",
     "showTitle": false,
     "title": ""
    }
   },
   "outputs": [
    {
     "output_type": "stream",
     "name": "stdout",
     "output_type": "stream",
     "text": [
      "Out[47]: 22324"
     ]
    }
   ],
   "source": [
    "#union\n",
    "\n",
    "df_copy.union(df_copy).count()"
   ]
  },
  {
   "cell_type": "code",
   "execution_count": 0,
   "metadata": {
    "application/vnd.databricks.v1+cell": {
     "cellMetadata": {
      "byteLimit": 2048000,
      "rowLimit": 10000
     },
     "inputWidgets": {},
     "nuid": "13abde1f-1d78-42dd-96cc-9bf2203cc522",
     "showTitle": false,
     "title": ""
    }
   },
   "outputs": [
    {
     "output_type": "stream",
     "name": "stdout",
     "output_type": "stream",
     "text": [
      "+---+------+-------+---------+-------+-------+-------+----+-------+---+-----+--------+--------+-----+--------+--------+-------+---+------+--------+---------+-------+-------+-------+----+---------+---+-----+--------+--------+-----+--------+--------+-------+\n|age|   job|marital|education|default|balance|housing|loan|contact|day|month|duration|campaign|pdays|previous|poutcome|deposit|age|   job| marital|education|default|balance|housing|loan|  contact|day|month|duration|campaign|pdays|previous|poutcome|deposit|\n+---+------+-------+---------+-------+-------+-------+----+-------+---+-----+--------+--------+-----+--------+--------+-------+---+------+--------+---------+-------+-------+-------+----+---------+---+-----+--------+--------+-----+--------+--------+-------+\n| 59|admin.|married|secondary|     no|   2343|    yes|  no|unknown|  5|  may|    1042|       1|   -1|       0| unknown|    yes| 43|admin.|  single|secondary|     no|     35|     no|  no|telephone|  9|  nov|     208|       1|   -1|       0| unknown|     no|\n| 59|admin.|married|secondary|     no|   2343|    yes|  no|unknown|  5|  may|    1042|       1|   -1|       0| unknown|    yes| 30|admin.| married|secondary|    yes|     23|     no| yes| cellular|  4|  feb|     149|       2|   -1|       0| unknown|     no|\n| 59|admin.|married|secondary|     no|   2343|    yes|  no|unknown|  5|  may|    1042|       1|   -1|       0| unknown|    yes| 52|admin.|divorced|secondary|     no|     48|     no| yes| cellular| 17|  nov|     591|       1|   -1|       0| unknown|     no|\n| 59|admin.|married|secondary|     no|   2343|    yes|  no|unknown|  5|  may|    1042|       1|   -1|       0| unknown|    yes| 43|admin.| married|secondary|     no|    616|    yes|  no|  unknown|  9|  may|     168|       2|   -1|       0| unknown|     no|\n| 59|admin.|married|secondary|     no|   2343|    yes|  no|unknown|  5|  may|    1042|       1|   -1|       0| unknown|    yes| 45|admin.| married|secondary|     no|     25|    yes|  no|  unknown| 28|  may|      82|       4|   -1|       0| unknown|     no|\n| 59|admin.|married|secondary|     no|   2343|    yes|  no|unknown|  5|  may|    1042|       1|   -1|       0| unknown|    yes| 54|admin.| married|  primary|     no|      0|     no|  no| cellular| 30|  jul|     255|       2|   -1|       0| unknown|     no|\n| 59|admin.|married|secondary|     no|   2343|    yes|  no|unknown|  5|  may|    1042|       1|   -1|       0| unknown|    yes| 26|admin.| married|secondary|     no|    714|    yes|  no|  unknown| 28|  may|     183|       1|   -1|       0| unknown|     no|\n| 59|admin.|married|secondary|     no|   2343|    yes|  no|unknown|  5|  may|    1042|       1|   -1|       0| unknown|    yes| 42|admin.| married|secondary|     no|   6445|    yes|  no|  unknown|  2|  jun|      20|       8|   -1|       0| unknown|     no|\n| 59|admin.|married|secondary|     no|   2343|    yes|  no|unknown|  5|  may|    1042|       1|   -1|       0| unknown|    yes| 33|admin.|  single| tertiary|     no|    193|     no|  no|  unknown|  5|  may|     132|       2|   -1|       0| unknown|     no|\n| 59|admin.|married|secondary|     no|   2343|    yes|  no|unknown|  5|  may|    1042|       1|   -1|       0| unknown|    yes| 39|admin.|  single|secondary|     no|      0|     no| yes|  unknown| 19|  jun|     142|       1|   -1|       0| unknown|     no|\n| 59|admin.|married|secondary|     no|   2343|    yes|  no|unknown|  5|  may|    1042|       1|   -1|       0| unknown|    yes| 32|admin.|  single|secondary|     no|   4344|    yes|  no| cellular| 17|  nov|      79|       2|  118|       3| failure|     no|\n| 59|admin.|married|secondary|     no|   2343|    yes|  no|unknown|  5|  may|    1042|       1|   -1|       0| unknown|    yes| 34|admin.| married|secondary|     no|   1499|    yes|  no| cellular| 13|  apr|     186|       1|  327|       2| failure|     no|\n| 59|admin.|married|secondary|     no|   2343|    yes|  no|unknown|  5|  may|    1042|       1|   -1|       0| unknown|    yes| 37|admin.| married|secondary|     no|     68|    yes| yes| cellular| 13|  may|     151|       2|  351|       1| failure|     no|\n| 59|admin.|married|secondary|     no|   2343|    yes|  no|unknown|  5|  may|    1042|       1|   -1|       0| unknown|    yes| 57|admin.| married|secondary|     no|    808|     no|  no| cellular| 14|  jul|     417|       3|   -1|       0| unknown|     no|\n| 59|admin.|married|secondary|     no|   2343|    yes|  no|unknown|  5|  may|    1042|       1|   -1|       0| unknown|    yes| 31|admin.|  single|secondary|     no|    690|     no|  no| cellular|  4|  may|      10|       4|   87|      12| failure|     no|\n| 59|admin.|married|secondary|     no|   2343|    yes|  no|unknown|  5|  may|    1042|       1|   -1|       0| unknown|    yes| 48|admin.| married|secondary|     no|   2235|    yes| yes|  unknown| 15|  may|     755|       2|   -1|       0| unknown|     no|\n| 59|admin.|married|secondary|     no|   2343|    yes|  no|unknown|  5|  may|    1042|       1|   -1|       0| unknown|    yes| 32|admin.| married|secondary|     no|   3540|    yes|  no| cellular| 18|  may|     213|       1|  178|       1| failure|     no|\n| 59|admin.|married|secondary|     no|   2343|    yes|  no|unknown|  5|  may|    1042|       1|   -1|       0| unknown|    yes| 42|admin.| married|secondary|     no|     12|    yes|  no| cellular| 16|  apr|     466|       4|   -1|       0| unknown|     no|\n| 59|admin.|married|secondary|     no|   2343|    yes|  no|unknown|  5|  may|    1042|       1|   -1|       0| unknown|    yes| 37|admin.|  single|secondary|     no|    309|    yes|  no| cellular| 15|  may|      58|       3|   -1|       0| unknown|     no|\n| 59|admin.|married|secondary|     no|   2343|    yes|  no|unknown|  5|  may|    1042|       1|   -1|       0| unknown|    yes| 41|admin.|  single|secondary|     no|      0|     no|  no|telephone| 25|  jul|     286|       2|   -1|       0| unknown|     no|\n+---+------+-------+---------+-------+-------+-------+----+-------+---+-----+--------+--------+-----+--------+--------+-------+---+------+--------+---------+-------+-------+-------+----+---------+---+-----+--------+--------+-----+--------+--------+-------+\nonly showing top 20 rows\n\n"
     ]
    }
   ],
   "source": [
    "#join\n",
    "df_join1=df.alias('df1')\n",
    "\n",
    "df_join2=df.alias('df2')\n",
    "\n",
    "df_final_join=df_join1.join(df_join2,df_join1['job']==df_join2['job'],'inner')\n",
    "\n",
    "df_final_join.show()"
   ]
  },
  {
   "cell_type": "code",
   "execution_count": 0,
   "metadata": {
    "application/vnd.databricks.v1+cell": {
     "cellMetadata": {
      "byteLimit": 2048000,
      "rowLimit": 10000
     },
     "inputWidgets": {},
     "nuid": "9979bf28-80a4-4d37-ad3a-d25df5eaa204",
     "showTitle": false,
     "title": ""
    }
   },
   "outputs": [
    {
     "output_type": "stream",
     "name": "stdout",
     "output_type": "stream",
     "text": [
      "Out[66]: 2276"
     ]
    }
   ],
   "source": [
    "#sampling a dataframe\n",
    "\n",
    "df_sample=df_copy.sample(withReplacement=True,fraction=0.2)\n",
    "df_sample.count()"
   ]
  },
  {
   "cell_type": "code",
   "execution_count": 0,
   "metadata": {
    "application/vnd.databricks.v1+cell": {
     "cellMetadata": {
      "byteLimit": 2048000,
      "rowLimit": 10000
     },
     "inputWidgets": {},
     "nuid": "941e35ff-21f8-4913-afa0-613c9747595a",
     "showTitle": false,
     "title": ""
    }
   },
   "outputs": [
    {
     "output_type": "stream",
     "name": "stdout",
     "output_type": "stream",
     "text": [
      "+---+------+-----------+------------+---------+----------+-------+-------------+--------+-------+----------+----------+-------+\n|age|admin.|blue-collar|entrepreneur|housemaid|management|retired|self-employed|services|student|technician|unemployed|unknown|\n+---+------+-----------+------------+---------+----------+-------+-------------+--------+-------+----------+----------+-------+\n| 31|  1829|       2511|         372|      124|      4402|   null|          713|    1395|    310|      2945|       682|     93|\n| 85|  null|       null|        null|     null|      null|    425|         null|    null|   null|      null|      null|   null|\n| 65|   130|       null|         130|       65|       195|   1105|         null|    null|   null|      null|        65|     65|\n| 53|  1219|       2067|         424|      530|      2544|    530|          318|     742|   null|      2014|       265|    159|\n| 78|  null|       null|        null|     null|        78|   1326|         null|    null|   null|      null|      null|     78|\n| 34|  2618|       2992|         476|      408|      4080|     34|          510|    1224|    102|      3060|       306|     34|\n| 81|  null|       null|        null|     null|      null|    729|         null|    null|   null|      null|      null|   null|\n| 28|  1176|       1680|          28|       28|      1736|   null|          532|     672|    840|      1176|       252|     56|\n| 76|  null|       null|        null|      152|        76|   1292|           76|    null|   null|      null|      null|   null|\n| 27|   918|       1215|          81|       81|      1107|   null|          216|     864|    810|      1161|       135|     54|\n| 26|   936|       1222|          78|     null|      1014|   null|          182|     624|    728|      1014|       286|     26|\n| 44|  1276|       2244|         484|      308|      2508|   null|          660|     924|   null|      1716|       352|   null|\n| 22|   110|         44|        null|       22|        66|   null|           44|      66|    660|        22|        22|   null|\n| 93|  null|       null|        null|     null|      null|    186|         null|    null|   null|      null|      null|   null|\n| 47|  1692|       2726|         376|      564|      2350|    141|          282|     940|     47|      2209|       517|    141|\n| 52|   988|       2132|         416|      416|      2288|    520|          416|    1092|   null|      1716|       624|     52|\n| 86|  null|       null|        null|     null|      null|    430|         null|    null|   null|      null|      null|   null|\n| 40|  1720|       3120|         440|      280|      2560|    160|          360|    1520|     80|      2120|       680|   null|\n| 20|    20|         40|        null|     null|      null|   null|         null|    null|    340|      null|      null|   null|\n| 57|  1140|       1083|         456|      570|      2679|   2223|          114|     513|   null|      1311|       342|     57|\n+---+------+-----------+------------+---------+----------+-------+-------------+--------+-------+----------+----------+-------+\nonly showing top 20 rows\n\n"
     ]
    }
   ],
   "source": [
    "#Pivot example\n",
    "\n",
    "df_pivot=df_copy.groupBy('age').pivot('job').sum('age')\n",
    "df_pivot.show()"
   ]
  },
  {
   "cell_type": "code",
   "execution_count": 0,
   "metadata": {
    "application/vnd.databricks.v1+cell": {
     "cellMetadata": {
      "byteLimit": 2048000,
      "rowLimit": 10000
     },
     "inputWidgets": {},
     "nuid": "81e5c873-b26c-4062-85d1-388ee0243acf",
     "showTitle": false,
     "title": ""
    }
   },
   "outputs": [
    {
     "output_type": "stream",
     "name": "stdout",
     "output_type": "stream",
     "text": [
      "11162\n"
     ]
    }
   ],
   "source": [
    "#drop duplicates\n",
    "\n",
    "df_drop_dups=df_copy.drop_duplicates()\n",
    "#df_drop_dups.count()\n",
    "\n",
    "df_count_of_age=df_copy.select('age').count()\n",
    "#df_count_of_age\n",
    "\n",
    "#print(df_count_of_age)\n",
    "\n",
    "#df_count_of_age=df_copy.groupBy('age').count()\n",
    "#df_count_of_age.show()\n",
    "\n",
    "list=['age']\n",
    "df_drop_dups_spec=df_copy.drop_duplicates(list)\n",
    "#df_drop_dups_spec.count()"
   ]
  }
 ],
 "metadata": {
  "application/vnd.databricks.v1+notebook": {
   "dashboards": [],
   "language": "python",
   "notebookMetadata": {
    "pythonIndentUnit": 4
   },
   "notebookName": "Pyspark Practice",
   "widgets": {}
  }
 },
 "nbformat": 4,
 "nbformat_minor": 0
}
